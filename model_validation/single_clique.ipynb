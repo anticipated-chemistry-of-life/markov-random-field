{
 "cells": [
  {
   "cell_type": "code",
   "execution_count": null,
   "metadata": {},
   "outputs": [],
   "source": [
    "import numpy as np\n",
    "from scipy.linalg import expm\n",
    "from tqdm.auto import trange, tqdm"
   ]
  },
  {
   "cell_type": "code",
   "execution_count": null,
   "metadata": {},
   "outputs": [],
   "source": [
    "def create_rate_matrix(alpha: float) -> np.ndarray:\n",
    "    if alpha > 1 or alpha < 0:\n",
    "        raise ValueError(\"alpha must be between 0 and 1.\")\n",
    "\n",
    "    return np.array([[-alpha, alpha], [1 - alpha, alpha - 1]])"
   ]
  },
  {
   "cell_type": "code",
   "execution_count": null,
   "metadata": {},
   "outputs": [],
   "source": [
    "def calculate_P_matrix(\n",
    "    rate_matrix: np.ndarray,\n",
    "    log_nu: float,\n",
    "    branch_length: float,\n",
    ") -> np.ndarray:\n",
    "    return expm(rate_matrix * branch_length * np.exp(log_nu))"
   ]
  },
  {
   "cell_type": "code",
   "execution_count": null,
   "metadata": {},
   "outputs": [],
   "source": [
    "# Function to simulate data\n",
    "def simulate_data(alpha: float, log_nu: float, num_leaves: int, branch_length):\n",
    "    root_state = np.random.choice([0, 1], p=[1 - alpha, alpha])\n",
    "    P = calculate_P_matrix(create_rate_matrix(alpha), log_nu, branch_length)\n",
    "    leaves = np.random.choice([0, 1], size=num_leaves, p=P[root_state])\n",
    "    return root_state, leaves"
   ]
  },
  {
   "cell_type": "code",
   "execution_count": null,
   "metadata": {},
   "outputs": [],
   "source": [
    "# Likelihood function\n",
    "def log_likelihood(\n",
    "    alpha: float,\n",
    "    root_state: int,\n",
    "    leaves: np.ndarray,\n",
    "    log_nu: float,\n",
    "    branch_length: float,\n",
    "):\n",
    "    if alpha <= 0 or alpha >= 1:\n",
    "        return -np.inf\n",
    "    P = calculate_P_matrix(create_rate_matrix(alpha), log_nu, branch_length)\n",
    "    p_root_to_leaves = P[root_state, leaves]\n",
    "    return np.sum(np.log(p_root_to_leaves))"
   ]
  },
  {
   "cell_type": "code",
   "execution_count": null,
   "metadata": {},
   "outputs": [],
   "source": [
    "# MCMC to infer alpha with adaptive step size\n",
    "def mcmc_infer_alpha(\n",
    "    root_state,\n",
    "    leaves,\n",
    "    log_nu,\n",
    "    branch_length,\n",
    "    num_samples=10000,\n",
    "    target_acceptance=0.4,\n",
    "    adapt_interval=100,\n",
    "):\n",
    "    branch_length = 1 / len(leaves)\n",
    "    alpha = np.random.uniform(0.0001, 0.999999)  # Initial alpha\n",
    "    samples = []\n",
    "    log_prob = log_likelihood(alpha, root_state, leaves, log_nu, branch_length)\n",
    "    step_size = 0.5\n",
    "    acceptances = 0\n",
    "\n",
    "    for i in trange(num_samples, leave=False):\n",
    "        new_alpha = alpha + np.random.uniform(-step_size, step_size)\n",
    "        if new_alpha < 0:\n",
    "            new_alpha = np.abs(new_alpha)\n",
    "        if new_alpha > 1:\n",
    "            new_alpha = 2 - new_alpha\n",
    "\n",
    "        new_log_prob = log_likelihood(\n",
    "            new_alpha, root_state, leaves, log_nu, branch_length\n",
    "        )\n",
    "\n",
    "        if np.log(np.random.rand()) < new_log_prob - log_prob:\n",
    "            alpha, log_prob = new_alpha, new_log_prob\n",
    "            acceptances += 1\n",
    "\n",
    "        samples.append(alpha)\n",
    "\n",
    "        # Adjust step size every adapt_interval steps\n",
    "        # if (i + 1) % adapt_interval == 0:\n",
    "        # acceptance_rate = acceptances / adapt_interval\n",
    "        # if acceptance_rate < target_acceptance:\n",
    "        # step_size *= 0.9\n",
    "        # else:\n",
    "        # step_size *= 1.1\n",
    "        # acceptances = 0\n",
    "    # print(\"Average acceptance: \", acceptances / num_samples)\n",
    "    return np.array(samples)"
   ]
  },
  {
   "cell_type": "code",
   "execution_count": null,
   "metadata": {},
   "outputs": [],
   "source": [
    "# MCMC to infer alpha with adaptive step size\n",
    "def mcmc_infer_log_nu(\n",
    "    root_state,\n",
    "    leaves,\n",
    "    alpha,\n",
    "    branch_length,\n",
    "    num_samples=10000,\n",
    "    target_acceptance=0.4,\n",
    "    adapt_interval=100,\n",
    "):\n",
    "    branch_length = 1 / len(leaves)\n",
    "\n",
    "    # log nu comes from a normal distribution\n",
    "    log_nu = np.random.normal(loc=0.5, scale=2)  # Initial log_nu\n",
    "    samples = []\n",
    "    log_prob = log_likelihood(alpha, root_state, leaves, log_nu, branch_length)\n",
    "    step_size = 0.5\n",
    "    acceptances = 0\n",
    "\n",
    "    for i in trange(num_samples, leave=False):\n",
    "        new_log_nu = np.random.normal(loc=0.5, scale=2)\n",
    "\n",
    "        new_log_prob = log_likelihood(\n",
    "            alpha, root_state, leaves, new_log_nu, branch_length\n",
    "        )\n",
    "\n",
    "        if np.log(np.random.rand()) < new_log_prob - log_prob:\n",
    "            log_nu, log_prob = new_log_nu, new_log_prob\n",
    "            acceptances += 1\n",
    "\n",
    "        samples.append(log_nu)\n",
    "\n",
    "    return np.array(samples)"
   ]
  },
  {
   "cell_type": "code",
   "execution_count": null,
   "metadata": {},
   "outputs": [],
   "source": [
    "# Simulate data and run MCMC\n",
    "true_alpha = 0.6\n",
    "num_leaves = 60\n",
    "true_log_nu = 0.5  # + np.log(1000 / 60)\n",
    "branch_length = 1 / num_leaves\n",
    "root_state, leaves = simulate_data(true_alpha, true_log_nu, num_leaves, branch_length)\n",
    "\n",
    "samples = mcmc_infer_log_nu(\n",
    "    root_state, leaves, true_alpha, branch_length, num_samples=20000\n",
    ")"
   ]
  },
  {
   "cell_type": "code",
   "execution_count": null,
   "metadata": {},
   "outputs": [],
   "source": [
    "print(sum(leaves) / len(leaves), \"are 1.\")"
   ]
  },
  {
   "cell_type": "code",
   "execution_count": null,
   "metadata": {},
   "outputs": [],
   "source": [
    "calculate_P_matrix(\n",
    "    create_rate_matrix(true_alpha), log_nu=true_log_nu, branch_length=1 / num_leaves\n",
    ")"
   ]
  },
  {
   "cell_type": "code",
   "execution_count": null,
   "metadata": {},
   "outputs": [],
   "source": [
    "print(\"Mean alpha : \", np.mean(samples[-1000:]))"
   ]
  },
  {
   "cell_type": "code",
   "execution_count": null,
   "metadata": {},
   "outputs": [],
   "source": [
    "import matplotlib.pyplot as plt\n",
    "\n",
    "# Plot results\n",
    "plt.hist(samples, density=True, alpha=0.7)\n",
    "plt.axvline(\n",
    "    true_alpha,\n",
    "    color=\"r\",\n",
    "    linestyle=\"dashed\",\n",
    "    label=f\"True alpha = {true_alpha}\",\n",
    ")\n",
    "plt.xlabel(\"Log Nu\")\n",
    "plt.ylabel(\"Density\")\n",
    "plt.legend()\n",
    "plt.show()"
   ]
  },
  {
   "cell_type": "code",
   "execution_count": null,
   "metadata": {},
   "outputs": [],
   "source": [
    "plt.scatter(x=range(len(samples)), y=samples, s=0.1, alpha=0.7)\n",
    "plt.axhline(\n",
    "    true_log_nu, color=\"r\", linestyle=\"dashed\", label=f\"True log Nu = {true_log_nu}\"\n",
    ")\n",
    "plt.axhline(\n",
    "    np.mean(samples),\n",
    "    color=\"b\",\n",
    "    linestyle=\"dashed\",\n",
    "    label=f\"Mean alpha = {np.mean(samples)}\",\n",
    ")\n",
    "plt.ylabel(\"Alpha\")\n",
    "plt.xlabel(\"Iterations\")\n",
    "plt.legend()\n",
    "plt.show()"
   ]
  },
  {
   "cell_type": "code",
   "execution_count": null,
   "metadata": {},
   "outputs": [],
   "source": [
    "# simulate many times with same prior values\n",
    "# infer\n",
    "ls = []\n",
    "root_states = []\n",
    "number_of_ones = []\n",
    "\n",
    "# Simulate data and run MCMC\n",
    "for _ in trange(139):\n",
    "    root_state, leaves = simulate_data(\n",
    "        true_alpha, true_log_nu, num_leaves, branch_length\n",
    "    )\n",
    "    number_of_ones.append(sum(leaves))\n",
    "    root_states.append(root_state)\n",
    "\n",
    "    samples = mcmc_infer_log_nu(\n",
    "        root_state, leaves, true_alpha, branch_length, num_samples=20000\n",
    "    )\n",
    "\n",
    "    ls.append(sum(samples < true_log_nu) / len(samples))"
   ]
  },
  {
   "cell_type": "code",
   "execution_count": null,
   "metadata": {},
   "outputs": [],
   "source": [
    "plt.hist(ls)\n",
    "plt.xlim(-0.1, 1.1)"
   ]
  },
  {
   "cell_type": "code",
   "execution_count": null,
   "metadata": {},
   "outputs": [],
   "source": [
    "plt.scatter(x=range(len(ls)), y=ls, c=root_states)"
   ]
  },
  {
   "cell_type": "code",
   "execution_count": null,
   "metadata": {},
   "outputs": [],
   "source": [
    "np.mean(root_states)"
   ]
  },
  {
   "cell_type": "code",
   "execution_count": null,
   "metadata": {},
   "outputs": [],
   "source": [
    "calculate_P_matrix(\n",
    "    create_rate_matrix(true_alpha), true_log_nu, branch_length\n",
    ") * num_leaves"
   ]
  },
  {
   "cell_type": "code",
   "execution_count": null,
   "metadata": {},
   "outputs": [],
   "source": [
    "import pandas as pd\n",
    "\n",
    "z_state = pd.read_csv(\"./single_root/acol_simulated_Z_species.txt\", sep=\"\\t\")\n",
    "y_state = pd.read_csv(\"./single_root/acol_simulated_Y.txt\", sep=\"\\t\")"
   ]
  },
  {
   "cell_type": "code",
   "execution_count": null,
   "metadata": {},
   "outputs": [],
   "source": [
    "ls = []\n",
    "log_nu = 0.5\n",
    "branch_length = 1 / y_state.species.unique().shape[0]\n",
    "true_alpha = 0.6\n",
    "\n",
    "for i, row in tqdm(z_state.iterrows(), total=z_state.shape[0]):\n",
    "    root_state = row[\"Z_state\"]\n",
    "    leaves = y_state[y_state[\"molecules\"] == row[\"molecules\"]][\"Y_state\"].values\n",
    "    samples = mcmc_infer_alpha(\n",
    "        root_state, leaves, log_nu, branch_length, num_samples=20000\n",
    "    )\n",
    "    ls.append(sum(samples < true_alpha) / len(samples))"
   ]
  },
  {
   "cell_type": "code",
   "execution_count": null,
   "metadata": {},
   "outputs": [],
   "source": [
    "plt.hist(ls)"
   ]
  },
  {
   "cell_type": "code",
   "execution_count": null,
   "metadata": {},
   "outputs": [],
   "source": [
    "plt.scatter(x=range(len(ls)), y=ls, c=z_state[\"Z_state\"])"
   ]
  }
 ],
 "metadata": {
  "kernelspec": {
   "display_name": ".venv",
   "language": "python",
   "name": "python3"
  },
  "language_info": {
   "codemirror_mode": {
    "name": "ipython",
    "version": 3
   },
   "file_extension": ".py",
   "mimetype": "text/x-python",
   "name": "python",
   "nbconvert_exporter": "python",
   "pygments_lexer": "ipython3",
   "version": "3.13.2"
  }
 },
 "nbformat": 4,
 "nbformat_minor": 2
}
