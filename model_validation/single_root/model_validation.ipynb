{
 "cells": [
  {
   "cell_type": "code",
   "execution_count": 10,
   "metadata": {},
   "outputs": [],
   "source": [
    "import pandas as pd\n",
    "import numpy as np\n",
    "from scipy.linalg import expm"
   ]
  },
  {
   "cell_type": "code",
   "execution_count": 11,
   "metadata": {},
   "outputs": [],
   "source": [
    "Y = pd.read_csv(\"./acol_simulated_Y.txt\", sep=\"\\t\", index_col=0)\n",
    "Z = pd.read_csv(\"./acol_simulated_Z_species.txt\", sep=\"\\t\")"
   ]
  },
  {
   "cell_type": "code",
   "execution_count": 12,
   "metadata": {},
   "outputs": [],
   "source": [
    "matrix = np.array([[0, 0], [0, 0]])\n",
    "for i, row in Y.iterrows():\n",
    "    y_state = row[\"Y_state\"]\n",
    "    z_state = int(Z[Z[\"molecules\"] == row[\"molecules\"]][\"Z_state\"].iloc[0])\n",
    "    if y_state == 0 and z_state == 0:\n",
    "        matrix[0, 0] += 1\n",
    "    if y_state == 1 and z_state == 0:\n",
    "        matrix[0, 1] += 1\n",
    "    if y_state == 0 and z_state == 1:\n",
    "        matrix[1, 0] += 1\n",
    "    if y_state == 1 and z_state == 1:\n",
    "        matrix[1, 1] += 1"
   ]
  },
  {
   "cell_type": "code",
   "execution_count": 13,
   "metadata": {},
   "outputs": [],
   "source": [
    "row_sums = matrix.sum(axis=1)\n",
    "matrix_normalised = matrix / row_sums[:, np.newaxis]"
   ]
  },
  {
   "cell_type": "markdown",
   "metadata": {},
   "source": [
    "This should then become the matrix at the specific branch length that we chose."
   ]
  },
  {
   "cell_type": "code",
   "execution_count": 14,
   "metadata": {},
   "outputs": [
    {
     "name": "stdout",
     "output_type": "stream",
     "text": [
      "[[0.90555556 0.09444444]\n",
      " [0.0952381  0.9047619 ]]\n"
     ]
    }
   ],
   "source": [
    "print(matrix_normalised)"
   ]
  },
  {
   "cell_type": "markdown",
   "metadata": {},
   "source": [
    "Now we can calculate the actual matrix at the specific branch length. For the model validation, we have fixed all species branch length to the same value. That means that we can take any of the [species_branch_lengths_1, ..., species_branch_lengths_N] and use it as the branch length for all species. \n",
    "\n",
    "The same can be said for the $\\mu$ of the species. We can take any of the [species_mu_1, ..., species_mu_N] and use it as the $\\mu$ for all species."
   ]
  },
  {
   "cell_type": "code",
   "execution_count": 15,
   "metadata": {},
   "outputs": [
    {
     "name": "stdout",
     "output_type": "stream",
     "text": [
      "[[0.89975383 0.10024617]\n",
      " [0.08353848 0.91646152]]\n"
     ]
    }
   ],
   "source": [
    "species_branch_len = pd.read_csv(\n",
    "    \"acol_simulated_species_branch_length_grid.txt\", sep=\"\\t\", index_col=0\n",
    ")\n",
    "params = pd.read_csv(\"acol_input_simulated.txt\", sep=\"\\t\")\n",
    "\n",
    "# for the model validation, given that we fixed all species branch length to the same values, we can take the first one only\n",
    "branch_length = species_branch_len.loc[\n",
    "    params[params[\"name\"] == \"species_branch_lengths_1\"][\"value\"]\n",
    "][\"branch_length\"].to_numpy()\n",
    "\n",
    "species_mu_1 = params[params[\"name\"] == \"species_mu_1_1\"][\"value\"].to_numpy().item()\n",
    "species_mu_0 = params[params[\"name\"] == \"species_mu_0_1\"][\"value\"].to_numpy().item()\n",
    "\n",
    "start_matrix = np.array([[-species_mu_1, species_mu_1], [species_mu_0, -species_mu_0]])\n",
    "matrix_at_grid_position = branch_length * start_matrix\n",
    "matrix_exp = expm(matrix_at_grid_position)\n",
    "print(matrix_exp)"
   ]
  },
  {
   "cell_type": "markdown",
   "metadata": {},
   "source": [
    "As we can see both are rather similar. This indicates that the calculations for this part of the model seem to be correct."
   ]
  },
  {
   "cell_type": "markdown",
   "metadata": {},
   "source": [
    "Also we can check that the average value of Z  for $Z = 1$ should be equal to $\\frac{\\mu_1}{\\mu_1 + \\mu_0}$"
   ]
  },
  {
   "cell_type": "code",
   "execution_count": 16,
   "metadata": {},
   "outputs": [
    {
     "name": "stdout",
     "output_type": "stream",
     "text": [
      "0.5833333333333334\n"
     ]
    }
   ],
   "source": [
    "print(Z[\"Z_state\"].mean())"
   ]
  },
  {
   "cell_type": "code",
   "execution_count": 17,
   "metadata": {},
   "outputs": [
    {
     "data": {
      "text/plain": [
       "0.5454545454545455"
      ]
     },
     "execution_count": 17,
     "metadata": {},
     "output_type": "execute_result"
    }
   ],
   "source": [
    "species_mu_1 / (species_mu_1 + species_mu_0)"
   ]
  },
  {
   "cell_type": "markdown",
   "metadata": {},
   "source": [
    "Both are also quite similar."
   ]
  }
 ],
 "metadata": {
  "kernelspec": {
   "display_name": ".venv",
   "language": "python",
   "name": "python3"
  },
  "language_info": {
   "codemirror_mode": {
    "name": "ipython",
    "version": 3
   },
   "file_extension": ".py",
   "mimetype": "text/x-python",
   "name": "python",
   "nbconvert_exporter": "python",
   "pygments_lexer": "ipython3",
   "version": "3.13.2"
  }
 },
 "nbformat": 4,
 "nbformat_minor": 2
}
