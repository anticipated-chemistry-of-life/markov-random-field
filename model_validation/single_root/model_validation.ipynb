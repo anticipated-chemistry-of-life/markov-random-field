{
 "cells": [
  {
   "cell_type": "code",
   "execution_count": 1,
   "metadata": {},
   "outputs": [],
   "source": [
    "import pandas as pd\n",
    "import numpy as np\n",
    "from scipy.linalg import expm"
   ]
  },
  {
   "cell_type": "code",
   "execution_count": 2,
   "metadata": {},
   "outputs": [],
   "source": [
    "Y = pd.read_csv(\"./acol_simulated_Y.txt\", sep=\"\\t\", index_col=0)\n",
    "Z = pd.read_csv(\"./acol_simulated_Z_species.txt\", sep=\"\\t\")"
   ]
  },
  {
   "cell_type": "code",
   "execution_count": 3,
   "metadata": {},
   "outputs": [],
   "source": [
    "matrix = np.array([[0, 0], [0, 0]])\n",
    "for i, row in Y.iterrows():\n",
    "    y_state = row[\"Y_state\"]\n",
    "    z_state = int(Z[Z[\"molecules\"] == row[\"molecules\"]][\"Z_state\"].iloc[0])\n",
    "    if y_state == 0 and z_state == 0:\n",
    "        matrix[0, 0] += 1\n",
    "    if y_state == 1 and z_state == 0:\n",
    "        matrix[0, 1] += 1\n",
    "    if y_state == 0 and z_state == 1:\n",
    "        matrix[1, 0] += 1\n",
    "    if y_state == 1 and z_state == 1:\n",
    "        matrix[1, 1] += 1"
   ]
  },
  {
   "cell_type": "code",
   "execution_count": 4,
   "metadata": {},
   "outputs": [],
   "source": [
    "row_sums = matrix.sum(axis=1)\n",
    "matrix_normalised = matrix / row_sums[:, np.newaxis]"
   ]
  },
  {
   "cell_type": "markdown",
   "metadata": {},
   "source": [
    "This should then become the matrix at the specific branch length that we chose."
   ]
  },
  {
   "cell_type": "code",
   "execution_count": 5,
   "metadata": {},
   "outputs": [
    {
     "name": "stdout",
     "output_type": "stream",
     "text": [
      "[[0.87708333 0.12291667]\n",
      " [0.2625     0.7375    ]]\n"
     ]
    }
   ],
   "source": [
    "print(matrix_normalised)"
   ]
  },
  {
   "cell_type": "markdown",
   "metadata": {},
   "source": [
    "Now we can calculate the actual matrix at the specific branch length. For the model validation, we have fixed all species branch length to the same value. That means that we can take any of the [species_branch_lengths_1, ..., species_branch_lengths_N] and use it as the branch length for all species. \n",
    "\n",
    "The same can be said for the $\\mu$ of the species. We can take any of the [species_mu_1, ..., species_mu_N] and use it as the $\\mu$ for all species."
   ]
  },
  {
   "cell_type": "code",
   "execution_count": null,
   "metadata": {},
   "outputs": [
    {
     "name": "stdout",
     "output_type": "stream",
     "text": [
      "[[0.6 0.4]\n",
      " [0.6 0.4]]\n"
     ]
    }
   ],
   "source": [
    "import numpy as np\n",
    "\n",
    "species_branch_len = pd.read_csv(\"acol_species_simulated.txt\", sep=\"\\t\", index_col=0)\n",
    "params = pd.read_csv(\"acol_input_simulated.txt\", sep=\"\\t\")\n",
    "species_log_nu = pd.read_csv(\"./acol_simulated.txt\", sep=\"\\t\", index_col=0)\n",
    "\n",
    "# for the model validation, given that we fixed all species branch length to the same values, we can take the first one only\n",
    "branch_length = species_branch_len.loc[\"species_branch_lengths_1\"].to_numpy()\n",
    "\n",
    "species_alpha = params[params[\"name\"] == \"species_alpha_1\"][\"value\"].to_numpy().item()\n",
    "species_log_nu = species_log_nu.loc[\"species_log_nu_1\"].to_numpy()\n",
    "\n",
    "start_matrix = np.array(\n",
    "    [[-species_alpha, species_alpha], [1 - species_alpha, species_alpha - 1]]\n",
    ")\n",
    "matrix_at_grid_position = branch_length * start_matrix * np.exp(species_log_nu)\n",
    "matrix_exp = expm(matrix_at_grid_position)\n",
    "print(matrix_exp)"
   ]
  },
  {
   "cell_type": "code",
   "execution_count": 35,
   "metadata": {},
   "outputs": [
    {
     "data": {
      "text/plain": [
       "array([[-0.4,  0.4],\n",
       "       [ 0.6, -0.6]])"
      ]
     },
     "execution_count": 35,
     "metadata": {},
     "output_type": "execute_result"
    }
   ],
   "source": [
    "start_matrix"
   ]
  },
  {
   "cell_type": "code",
   "execution_count": 23,
   "metadata": {},
   "outputs": [],
   "source": [
    "species_log_nu = pd.read_csv(\"./acol_simulated.txt\", sep=\"\\t\")"
   ]
  },
  {
   "cell_type": "code",
   "execution_count": 24,
   "metadata": {},
   "outputs": [
    {
     "data": {
      "text/html": [
       "<div>\n",
       "<style scoped>\n",
       "    .dataframe tbody tr th:only-of-type {\n",
       "        vertical-align: middle;\n",
       "    }\n",
       "\n",
       "    .dataframe tbody tr th {\n",
       "        vertical-align: top;\n",
       "    }\n",
       "\n",
       "    .dataframe thead th {\n",
       "        text-align: right;\n",
       "    }\n",
       "</style>\n",
       "<table border=\"1\" class=\"dataframe\">\n",
       "  <thead>\n",
       "    <tr style=\"text-align: right;\">\n",
       "      <th></th>\n",
       "      <th>name</th>\n",
       "      <th>value</th>\n",
       "    </tr>\n",
       "  </thead>\n",
       "  <tbody>\n",
       "    <tr>\n",
       "      <th>0</th>\n",
       "      <td>molecules_mean_log_nu</td>\n",
       "      <td>0.5</td>\n",
       "    </tr>\n",
       "    <tr>\n",
       "      <th>1</th>\n",
       "      <td>molecules_var_log_nu</td>\n",
       "      <td>0.2</td>\n",
       "    </tr>\n",
       "    <tr>\n",
       "      <th>2</th>\n",
       "      <td>molecules_log_nu_1</td>\n",
       "      <td>2.5</td>\n",
       "    </tr>\n",
       "    <tr>\n",
       "      <th>3</th>\n",
       "      <td>molecules_log_nu_2</td>\n",
       "      <td>2.5</td>\n",
       "    </tr>\n",
       "    <tr>\n",
       "      <th>4</th>\n",
       "      <td>molecules_log_nu_3</td>\n",
       "      <td>2.5</td>\n",
       "    </tr>\n",
       "    <tr>\n",
       "      <th>...</th>\n",
       "      <td>...</td>\n",
       "      <td>...</td>\n",
       "    </tr>\n",
       "    <tr>\n",
       "      <th>191</th>\n",
       "      <td>species_alpha_32</td>\n",
       "      <td>0.4</td>\n",
       "    </tr>\n",
       "    <tr>\n",
       "      <th>192</th>\n",
       "      <td>species_alpha_33</td>\n",
       "      <td>0.4</td>\n",
       "    </tr>\n",
       "    <tr>\n",
       "      <th>193</th>\n",
       "      <td>species_alpha_34</td>\n",
       "      <td>0.4</td>\n",
       "    </tr>\n",
       "    <tr>\n",
       "      <th>194</th>\n",
       "      <td>species_alpha_35</td>\n",
       "      <td>0.4</td>\n",
       "    </tr>\n",
       "    <tr>\n",
       "      <th>195</th>\n",
       "      <td>species_alpha_36</td>\n",
       "      <td>0.4</td>\n",
       "    </tr>\n",
       "  </tbody>\n",
       "</table>\n",
       "<p>196 rows × 2 columns</p>\n",
       "</div>"
      ],
      "text/plain": [
       "                      name  value\n",
       "0    molecules_mean_log_nu    0.5\n",
       "1     molecules_var_log_nu    0.2\n",
       "2       molecules_log_nu_1    2.5\n",
       "3       molecules_log_nu_2    2.5\n",
       "4       molecules_log_nu_3    2.5\n",
       "..                     ...    ...\n",
       "191       species_alpha_32    0.4\n",
       "192       species_alpha_33    0.4\n",
       "193       species_alpha_34    0.4\n",
       "194       species_alpha_35    0.4\n",
       "195       species_alpha_36    0.4\n",
       "\n",
       "[196 rows x 2 columns]"
      ]
     },
     "execution_count": 24,
     "metadata": {},
     "output_type": "execute_result"
    }
   ],
   "source": [
    "species_log_nu"
   ]
  },
  {
   "cell_type": "markdown",
   "metadata": {},
   "source": [
    "As we can see both are rather similar. This indicates that the calculations for this part of the model seem to be correct."
   ]
  },
  {
   "cell_type": "markdown",
   "metadata": {},
   "source": [
    "Also we can check that the average value of Z  for $Z = 1$ should be equal to $\\frac{\\mu_1}{\\mu_1 + \\mu_0}$"
   ]
  },
  {
   "cell_type": "code",
   "execution_count": null,
   "metadata": {},
   "outputs": [],
   "source": [
    "print(Z[\"Z_state\"].mean())"
   ]
  },
  {
   "cell_type": "code",
   "execution_count": null,
   "metadata": {},
   "outputs": [],
   "source": [
    "species_mu_1 / (species_mu_1 + species_mu_0)"
   ]
  },
  {
   "cell_type": "markdown",
   "metadata": {},
   "source": [
    "Both are also quite similar."
   ]
  }
 ],
 "metadata": {
  "kernelspec": {
   "display_name": ".venv",
   "language": "python",
   "name": "python3"
  },
  "language_info": {
   "codemirror_mode": {
    "name": "ipython",
    "version": 3
   },
   "file_extension": ".py",
   "mimetype": "text/x-python",
   "name": "python",
   "nbconvert_exporter": "python",
   "pygments_lexer": "ipython3",
   "version": "3.13.2"
  }
 },
 "nbformat": 4,
 "nbformat_minor": 2
}
