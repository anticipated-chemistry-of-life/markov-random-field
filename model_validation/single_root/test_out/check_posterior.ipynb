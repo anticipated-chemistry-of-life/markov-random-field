{
 "cells": [
  {
   "cell_type": "code",
   "execution_count": 1,
   "metadata": {},
   "outputs": [],
   "source": [
    "import pandas as pd\n",
    "\n",
    "\n",
    "trace = pd.read_csv(\"acol_trace.txt\", sep=\"\\t\")\n",
    "\n",
    "which_variable = \"species_alpha_138\""
   ]
  },
  {
   "cell_type": "code",
   "execution_count": 2,
   "metadata": {},
   "outputs": [
    {
     "data": {
      "text/html": [
       "<div>\n",
       "<style scoped>\n",
       "    .dataframe tbody tr th:only-of-type {\n",
       "        vertical-align: middle;\n",
       "    }\n",
       "\n",
       "    .dataframe tbody tr th {\n",
       "        vertical-align: top;\n",
       "    }\n",
       "\n",
       "    .dataframe thead th {\n",
       "        text-align: right;\n",
       "    }\n",
       "</style>\n",
       "<table border=\"1\" class=\"dataframe\">\n",
       "  <thead>\n",
       "    <tr style=\"text-align: right;\">\n",
       "      <th></th>\n",
       "      <th>gamma_1</th>\n",
       "      <th>gamma_2</th>\n",
       "      <th>molecules_mean_log_nu</th>\n",
       "      <th>molecules_var_log_nu</th>\n",
       "      <th>molecules_log_nu_1</th>\n",
       "      <th>molecules_log_nu_2</th>\n",
       "      <th>molecules_log_nu_3</th>\n",
       "      <th>molecules_log_nu_4</th>\n",
       "      <th>molecules_log_nu_5</th>\n",
       "      <th>molecules_log_nu_6</th>\n",
       "      <th>...</th>\n",
       "      <th>species_alpha_130</th>\n",
       "      <th>species_alpha_131</th>\n",
       "      <th>species_alpha_132</th>\n",
       "      <th>species_alpha_133</th>\n",
       "      <th>species_alpha_134</th>\n",
       "      <th>species_alpha_135</th>\n",
       "      <th>species_alpha_136</th>\n",
       "      <th>species_alpha_137</th>\n",
       "      <th>species_alpha_138</th>\n",
       "      <th>species_alpha_139</th>\n",
       "    </tr>\n",
       "  </thead>\n",
       "  <tbody>\n",
       "    <tr>\n",
       "      <th>0</th>\n",
       "      <td>0.001000</td>\n",
       "      <td>0.000000</td>\n",
       "      <td>0.5</td>\n",
       "      <td>0.2</td>\n",
       "      <td>6.3</td>\n",
       "      <td>6.3</td>\n",
       "      <td>6.3</td>\n",
       "      <td>6.3</td>\n",
       "      <td>6.3</td>\n",
       "      <td>6.3</td>\n",
       "      <td>...</td>\n",
       "      <td>0.500000</td>\n",
       "      <td>0.500000</td>\n",
       "      <td>0.500000</td>\n",
       "      <td>0.500000</td>\n",
       "      <td>0.500000</td>\n",
       "      <td>0.500000</td>\n",
       "      <td>0.500000</td>\n",
       "      <td>0.500000</td>\n",
       "      <td>0.500000</td>\n",
       "      <td>0.500000</td>\n",
       "    </tr>\n",
       "    <tr>\n",
       "      <th>1</th>\n",
       "      <td>0.103569</td>\n",
       "      <td>0.131453</td>\n",
       "      <td>0.5</td>\n",
       "      <td>0.2</td>\n",
       "      <td>6.3</td>\n",
       "      <td>6.3</td>\n",
       "      <td>6.3</td>\n",
       "      <td>6.3</td>\n",
       "      <td>6.3</td>\n",
       "      <td>6.3</td>\n",
       "      <td>...</td>\n",
       "      <td>0.500000</td>\n",
       "      <td>0.513111</td>\n",
       "      <td>0.592704</td>\n",
       "      <td>0.500000</td>\n",
       "      <td>0.478179</td>\n",
       "      <td>0.496317</td>\n",
       "      <td>0.484401</td>\n",
       "      <td>0.451181</td>\n",
       "      <td>0.500000</td>\n",
       "      <td>0.664419</td>\n",
       "    </tr>\n",
       "    <tr>\n",
       "      <th>2</th>\n",
       "      <td>0.297815</td>\n",
       "      <td>0.664241</td>\n",
       "      <td>0.5</td>\n",
       "      <td>0.2</td>\n",
       "      <td>6.3</td>\n",
       "      <td>6.3</td>\n",
       "      <td>6.3</td>\n",
       "      <td>6.3</td>\n",
       "      <td>6.3</td>\n",
       "      <td>6.3</td>\n",
       "      <td>...</td>\n",
       "      <td>0.984445</td>\n",
       "      <td>0.968306</td>\n",
       "      <td>0.581309</td>\n",
       "      <td>0.885746</td>\n",
       "      <td>0.273426</td>\n",
       "      <td>0.025854</td>\n",
       "      <td>0.326891</td>\n",
       "      <td>0.319041</td>\n",
       "      <td>0.456633</td>\n",
       "      <td>0.953291</td>\n",
       "    </tr>\n",
       "    <tr>\n",
       "      <th>3</th>\n",
       "      <td>0.224298</td>\n",
       "      <td>0.466489</td>\n",
       "      <td>0.5</td>\n",
       "      <td>0.2</td>\n",
       "      <td>6.3</td>\n",
       "      <td>6.3</td>\n",
       "      <td>6.3</td>\n",
       "      <td>6.3</td>\n",
       "      <td>6.3</td>\n",
       "      <td>6.3</td>\n",
       "      <td>...</td>\n",
       "      <td>0.957301</td>\n",
       "      <td>0.949743</td>\n",
       "      <td>0.644857</td>\n",
       "      <td>0.998663</td>\n",
       "      <td>0.180034</td>\n",
       "      <td>0.033770</td>\n",
       "      <td>0.275070</td>\n",
       "      <td>0.027124</td>\n",
       "      <td>0.351375</td>\n",
       "      <td>0.958557</td>\n",
       "    </tr>\n",
       "    <tr>\n",
       "      <th>4</th>\n",
       "      <td>0.255241</td>\n",
       "      <td>0.684720</td>\n",
       "      <td>0.5</td>\n",
       "      <td>0.2</td>\n",
       "      <td>6.3</td>\n",
       "      <td>6.3</td>\n",
       "      <td>6.3</td>\n",
       "      <td>6.3</td>\n",
       "      <td>6.3</td>\n",
       "      <td>6.3</td>\n",
       "      <td>...</td>\n",
       "      <td>0.964948</td>\n",
       "      <td>0.992908</td>\n",
       "      <td>0.828878</td>\n",
       "      <td>0.618613</td>\n",
       "      <td>0.220177</td>\n",
       "      <td>0.085826</td>\n",
       "      <td>0.660114</td>\n",
       "      <td>0.092647</td>\n",
       "      <td>0.419801</td>\n",
       "      <td>0.963909</td>\n",
       "    </tr>\n",
       "    <tr>\n",
       "      <th>...</th>\n",
       "      <td>...</td>\n",
       "      <td>...</td>\n",
       "      <td>...</td>\n",
       "      <td>...</td>\n",
       "      <td>...</td>\n",
       "      <td>...</td>\n",
       "      <td>...</td>\n",
       "      <td>...</td>\n",
       "      <td>...</td>\n",
       "      <td>...</td>\n",
       "      <td>...</td>\n",
       "      <td>...</td>\n",
       "      <td>...</td>\n",
       "      <td>...</td>\n",
       "      <td>...</td>\n",
       "      <td>...</td>\n",
       "      <td>...</td>\n",
       "      <td>...</td>\n",
       "      <td>...</td>\n",
       "      <td>...</td>\n",
       "      <td>...</td>\n",
       "    </tr>\n",
       "    <tr>\n",
       "      <th>2996</th>\n",
       "      <td>16870.100000</td>\n",
       "      <td>4429.690000</td>\n",
       "      <td>0.5</td>\n",
       "      <td>0.2</td>\n",
       "      <td>6.3</td>\n",
       "      <td>6.3</td>\n",
       "      <td>6.3</td>\n",
       "      <td>6.3</td>\n",
       "      <td>6.3</td>\n",
       "      <td>6.3</td>\n",
       "      <td>...</td>\n",
       "      <td>0.837217</td>\n",
       "      <td>0.975241</td>\n",
       "      <td>0.808433</td>\n",
       "      <td>0.984460</td>\n",
       "      <td>0.530009</td>\n",
       "      <td>0.017289</td>\n",
       "      <td>0.217121</td>\n",
       "      <td>0.275636</td>\n",
       "      <td>0.206135</td>\n",
       "      <td>0.938474</td>\n",
       "    </tr>\n",
       "    <tr>\n",
       "      <th>2997</th>\n",
       "      <td>16648.100000</td>\n",
       "      <td>4858.190000</td>\n",
       "      <td>0.5</td>\n",
       "      <td>0.2</td>\n",
       "      <td>6.3</td>\n",
       "      <td>6.3</td>\n",
       "      <td>6.3</td>\n",
       "      <td>6.3</td>\n",
       "      <td>6.3</td>\n",
       "      <td>6.3</td>\n",
       "      <td>...</td>\n",
       "      <td>0.879918</td>\n",
       "      <td>0.984347</td>\n",
       "      <td>0.796324</td>\n",
       "      <td>0.954919</td>\n",
       "      <td>0.312706</td>\n",
       "      <td>0.211618</td>\n",
       "      <td>0.250150</td>\n",
       "      <td>0.059693</td>\n",
       "      <td>0.197201</td>\n",
       "      <td>0.978957</td>\n",
       "    </tr>\n",
       "    <tr>\n",
       "      <th>2998</th>\n",
       "      <td>16509.300000</td>\n",
       "      <td>4426.740000</td>\n",
       "      <td>0.5</td>\n",
       "      <td>0.2</td>\n",
       "      <td>6.3</td>\n",
       "      <td>6.3</td>\n",
       "      <td>6.3</td>\n",
       "      <td>6.3</td>\n",
       "      <td>6.3</td>\n",
       "      <td>6.3</td>\n",
       "      <td>...</td>\n",
       "      <td>0.891299</td>\n",
       "      <td>0.924727</td>\n",
       "      <td>0.899090</td>\n",
       "      <td>0.996160</td>\n",
       "      <td>0.408732</td>\n",
       "      <td>0.200720</td>\n",
       "      <td>0.042344</td>\n",
       "      <td>0.043561</td>\n",
       "      <td>0.019283</td>\n",
       "      <td>0.973894</td>\n",
       "    </tr>\n",
       "    <tr>\n",
       "      <th>2999</th>\n",
       "      <td>17342.100000</td>\n",
       "      <td>4151.450000</td>\n",
       "      <td>0.5</td>\n",
       "      <td>0.2</td>\n",
       "      <td>6.3</td>\n",
       "      <td>6.3</td>\n",
       "      <td>6.3</td>\n",
       "      <td>6.3</td>\n",
       "      <td>6.3</td>\n",
       "      <td>6.3</td>\n",
       "      <td>...</td>\n",
       "      <td>0.870244</td>\n",
       "      <td>0.941570</td>\n",
       "      <td>0.771775</td>\n",
       "      <td>0.970229</td>\n",
       "      <td>0.235468</td>\n",
       "      <td>0.130320</td>\n",
       "      <td>0.192258</td>\n",
       "      <td>0.087335</td>\n",
       "      <td>0.019514</td>\n",
       "      <td>0.747172</td>\n",
       "    </tr>\n",
       "    <tr>\n",
       "      <th>3000</th>\n",
       "      <td>17346.700000</td>\n",
       "      <td>3800.100000</td>\n",
       "      <td>0.5</td>\n",
       "      <td>0.2</td>\n",
       "      <td>6.3</td>\n",
       "      <td>6.3</td>\n",
       "      <td>6.3</td>\n",
       "      <td>6.3</td>\n",
       "      <td>6.3</td>\n",
       "      <td>6.3</td>\n",
       "      <td>...</td>\n",
       "      <td>0.915646</td>\n",
       "      <td>0.970344</td>\n",
       "      <td>0.851074</td>\n",
       "      <td>0.970229</td>\n",
       "      <td>0.147746</td>\n",
       "      <td>0.227663</td>\n",
       "      <td>0.253010</td>\n",
       "      <td>0.165396</td>\n",
       "      <td>0.258193</td>\n",
       "      <td>0.950330</td>\n",
       "    </tr>\n",
       "  </tbody>\n",
       "</table>\n",
       "<p>3001 rows × 404 columns</p>\n",
       "</div>"
      ],
      "text/plain": [
       "           gamma_1      gamma_2  molecules_mean_log_nu  molecules_var_log_nu  \\\n",
       "0         0.001000     0.000000                    0.5                   0.2   \n",
       "1         0.103569     0.131453                    0.5                   0.2   \n",
       "2         0.297815     0.664241                    0.5                   0.2   \n",
       "3         0.224298     0.466489                    0.5                   0.2   \n",
       "4         0.255241     0.684720                    0.5                   0.2   \n",
       "...            ...          ...                    ...                   ...   \n",
       "2996  16870.100000  4429.690000                    0.5                   0.2   \n",
       "2997  16648.100000  4858.190000                    0.5                   0.2   \n",
       "2998  16509.300000  4426.740000                    0.5                   0.2   \n",
       "2999  17342.100000  4151.450000                    0.5                   0.2   \n",
       "3000  17346.700000  3800.100000                    0.5                   0.2   \n",
       "\n",
       "      molecules_log_nu_1  molecules_log_nu_2  molecules_log_nu_3  \\\n",
       "0                    6.3                 6.3                 6.3   \n",
       "1                    6.3                 6.3                 6.3   \n",
       "2                    6.3                 6.3                 6.3   \n",
       "3                    6.3                 6.3                 6.3   \n",
       "4                    6.3                 6.3                 6.3   \n",
       "...                  ...                 ...                 ...   \n",
       "2996                 6.3                 6.3                 6.3   \n",
       "2997                 6.3                 6.3                 6.3   \n",
       "2998                 6.3                 6.3                 6.3   \n",
       "2999                 6.3                 6.3                 6.3   \n",
       "3000                 6.3                 6.3                 6.3   \n",
       "\n",
       "      molecules_log_nu_4  molecules_log_nu_5  molecules_log_nu_6  ...  \\\n",
       "0                    6.3                 6.3                 6.3  ...   \n",
       "1                    6.3                 6.3                 6.3  ...   \n",
       "2                    6.3                 6.3                 6.3  ...   \n",
       "3                    6.3                 6.3                 6.3  ...   \n",
       "4                    6.3                 6.3                 6.3  ...   \n",
       "...                  ...                 ...                 ...  ...   \n",
       "2996                 6.3                 6.3                 6.3  ...   \n",
       "2997                 6.3                 6.3                 6.3  ...   \n",
       "2998                 6.3                 6.3                 6.3  ...   \n",
       "2999                 6.3                 6.3                 6.3  ...   \n",
       "3000                 6.3                 6.3                 6.3  ...   \n",
       "\n",
       "      species_alpha_130  species_alpha_131  species_alpha_132  \\\n",
       "0              0.500000           0.500000           0.500000   \n",
       "1              0.500000           0.513111           0.592704   \n",
       "2              0.984445           0.968306           0.581309   \n",
       "3              0.957301           0.949743           0.644857   \n",
       "4              0.964948           0.992908           0.828878   \n",
       "...                 ...                ...                ...   \n",
       "2996           0.837217           0.975241           0.808433   \n",
       "2997           0.879918           0.984347           0.796324   \n",
       "2998           0.891299           0.924727           0.899090   \n",
       "2999           0.870244           0.941570           0.771775   \n",
       "3000           0.915646           0.970344           0.851074   \n",
       "\n",
       "      species_alpha_133  species_alpha_134  species_alpha_135  \\\n",
       "0              0.500000           0.500000           0.500000   \n",
       "1              0.500000           0.478179           0.496317   \n",
       "2              0.885746           0.273426           0.025854   \n",
       "3              0.998663           0.180034           0.033770   \n",
       "4              0.618613           0.220177           0.085826   \n",
       "...                 ...                ...                ...   \n",
       "2996           0.984460           0.530009           0.017289   \n",
       "2997           0.954919           0.312706           0.211618   \n",
       "2998           0.996160           0.408732           0.200720   \n",
       "2999           0.970229           0.235468           0.130320   \n",
       "3000           0.970229           0.147746           0.227663   \n",
       "\n",
       "      species_alpha_136  species_alpha_137  species_alpha_138  \\\n",
       "0              0.500000           0.500000           0.500000   \n",
       "1              0.484401           0.451181           0.500000   \n",
       "2              0.326891           0.319041           0.456633   \n",
       "3              0.275070           0.027124           0.351375   \n",
       "4              0.660114           0.092647           0.419801   \n",
       "...                 ...                ...                ...   \n",
       "2996           0.217121           0.275636           0.206135   \n",
       "2997           0.250150           0.059693           0.197201   \n",
       "2998           0.042344           0.043561           0.019283   \n",
       "2999           0.192258           0.087335           0.019514   \n",
       "3000           0.253010           0.165396           0.258193   \n",
       "\n",
       "      species_alpha_139  \n",
       "0              0.500000  \n",
       "1              0.664419  \n",
       "2              0.953291  \n",
       "3              0.958557  \n",
       "4              0.963909  \n",
       "...                 ...  \n",
       "2996           0.938474  \n",
       "2997           0.978957  \n",
       "2998           0.973894  \n",
       "2999           0.747172  \n",
       "3000           0.950330  \n",
       "\n",
       "[3001 rows x 404 columns]"
      ]
     },
     "execution_count": 2,
     "metadata": {},
     "output_type": "execute_result"
    }
   ],
   "source": [
    "trace"
   ]
  },
  {
   "cell_type": "code",
   "execution_count": 3,
   "metadata": {},
   "outputs": [
    {
     "name": "stdout",
     "output_type": "stream",
     "text": [
      "0.10144633759523493\n",
      "0.009850387640962051\n"
     ]
    }
   ],
   "source": [
    "print(trace[which_variable].mean())\n",
    "print(trace[which_variable].var())"
   ]
  },
  {
   "cell_type": "code",
   "execution_count": 4,
   "metadata": {},
   "outputs": [
    {
     "data": {
      "text/plain": [
       "<matplotlib.legend.Legend at 0x13af449b0>"
      ]
     },
     "execution_count": 4,
     "metadata": {},
     "output_type": "execute_result"
    },
    {
     "data": {
      "image/png": "[encoded data removed]",
      "text/plain": [
       "<Figure size 640x480 with 1 Axes>"
      ]
     },
     "metadata": {},
     "output_type": "display_data"
    }
   ],
   "source": [
    "import seaborn as sns\n",
    "import matplotlib.pyplot as plt\n",
    "\n",
    "sns.scatterplot(data=trace, y=which_variable, x=range(len(trace)), s=5).set_title(\n",
    "    which_variable\n",
    ")\n",
    "plt.axhline(y=trace[which_variable][0], color=\"red\")\n",
    "plt.axhline(y=trace[which_variable].mean(), color=\"green\")\n",
    "plt.legend([\"\", \"true value\", \"mean value of trace\"])"
   ]
  },
  {
   "cell_type": "code",
   "execution_count": 5,
   "metadata": {},
   "outputs": [],
   "source": [
    "species_alpha = [f\"species_alpha_{i+1}\" for i in range(139)]"
   ]
  },
  {
   "cell_type": "code",
   "execution_count": 6,
   "metadata": {},
   "outputs": [
    {
     "data": {
      "text/plain": [
       "np.float64(0.5)"
      ]
     },
     "execution_count": 6,
     "metadata": {},
     "output_type": "execute_result"
    }
   ],
   "source": [
    "trace[which_variable][0]"
   ]
  },
  {
   "cell_type": "code",
   "execution_count": 7,
   "metadata": {},
   "outputs": [
    {
     "data": {
      "text/plain": [
       "(array([58.,  4.,  2.,  1.,  0.,  0.,  1.,  2.,  6., 65.]),\n",
       " array([0.00233256, 0.1017994 , 0.20126624, 0.30073309, 0.40019993,\n",
       "        0.49966678, 0.59913362, 0.69860047, 0.79806731, 0.89753416,\n",
       "        0.997001  ]),\n",
       " <BarContainer object of 10 artists>)"
      ]
     },
     "execution_count": 7,
     "metadata": {},
     "output_type": "execute_result"
    },
    {
     "data": {
      "image/png": "[encoded data removed]",
      "text/plain": [
       "<Figure size 640x480 with 1 Axes>"
      ]
     },
     "metadata": {},
     "output_type": "display_data"
    }
   ],
   "source": [
    "import matplotlib.pyplot as plt\n",
    "\n",
    "plt.hist((trace < trace[which_variable][0])[species_alpha].sum() / len(trace))"
   ]
  },
  {
   "cell_type": "code",
   "execution_count": 8,
   "metadata": {},
   "outputs": [
    {
     "data": {
      "text/plain": [
       "(array([5.000e+01, 1.034e+03, 4.037e+03, 2.848e+03, 3.670e+02, 3.000e+00,\n",
       "        0.000e+00, 0.000e+00, 0.000e+00, 1.000e+00]),\n",
       " array([0.31 , 0.379, 0.448, 0.517, 0.586, 0.655, 0.724, 0.793, 0.862,\n",
       "        0.931, 1.   ]),\n",
       " <BarContainer object of 10 artists>)"
      ]
     },
     "execution_count": 8,
     "metadata": {},
     "output_type": "execute_result"
    },
    {
     "data": {
      "image/png": "[encoded data removed]",
      "text/plain": [
       "<Figure size 640x480 with 1 Axes>"
      ]
     },
     "metadata": {},
     "output_type": "display_data"
    }
   ],
   "source": [
    "import matplotlib.pyplot as plt\n",
    "\n",
    "z_trace_molecules = pd.read_csv(\"../acol_molecules_Z_trace.txt\", sep=\"\\t\")\n",
    "\n",
    "plt.hist(z_trace_molecules.mean())"
   ]
  },
  {
   "cell_type": "code",
   "execution_count": 9,
   "metadata": {},
   "outputs": [
    {
     "data": {
      "text/plain": [
       "(array([74.,  0.,  0.,  0.,  0.,  0.,  0.,  0.,  0., 65.]),\n",
       " array([0. , 0.1, 0.2, 0.3, 0.4, 0.5, 0.6, 0.7, 0.8, 0.9, 1. ]),\n",
       " <BarContainer object of 10 artists>)"
      ]
     },
     "execution_count": 9,
     "metadata": {},
     "output_type": "execute_result"
    },
    {
     "data": {
      "image/png": "[encoded data removed]",
      "text/plain": [
       "<Figure size 640x480 with 1 Axes>"
      ]
     },
     "metadata": {},
     "output_type": "display_data"
    }
   ],
   "source": [
    "z_trace_species = pd.read_csv(\"../acol_species_Z_trace.txt\", sep=\"\\t\")\n",
    "\n",
    "plt.hist(z_trace_species.mean())"
   ]
  },
  {
   "cell_type": "code",
   "execution_count": 11,
   "metadata": {},
   "outputs": [
    {
     "data": {
      "text/plain": [
       "np.float64(0.4676258992805755)"
      ]
     },
     "execution_count": 11,
     "metadata": {},
     "output_type": "execute_result"
    }
   ],
   "source": [
    "z_trace_species.mean().mean()"
   ]
  }
 ],
 "metadata": {
  "kernelspec": {
   "display_name": ".venv",
   "language": "python",
   "name": "python3"
  },
  "language_info": {
   "codemirror_mode": {
    "name": "ipython",
    "version": 3
   },
   "file_extension": ".py",
   "mimetype": "text/x-python",
   "name": "python",
   "nbconvert_exporter": "python",
   "pygments_lexer": "ipython3",
   "version": "3.12.7"
  }
 },
 "nbformat": 4,
 "nbformat_minor": 2
}
