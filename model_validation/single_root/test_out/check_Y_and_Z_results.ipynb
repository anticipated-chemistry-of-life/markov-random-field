{
 "cells": [
  {
   "cell_type": "code",
   "execution_count": 1,
   "metadata": {},
   "outputs": [],
   "source": [
    "import pandas as pd"
   ]
  },
  {
   "cell_type": "code",
   "execution_count": 2,
   "metadata": {},
   "outputs": [],
   "source": [
    "y_pred_df = pd.read_csv(\"acol_Y_trace.txt\", sep=\"\\t\")"
   ]
  },
  {
   "cell_type": "code",
   "execution_count": 3,
   "metadata": {},
   "outputs": [],
   "source": [
    "y_pred = y_pred_df.mean().to_numpy()"
   ]
  },
  {
   "cell_type": "code",
   "execution_count": 4,
   "metadata": {},
   "outputs": [],
   "source": [
    "true_y_df = pd.read_csv(\"../acol_simulated_Y.txt\", sep=\"\\t\")"
   ]
  },
  {
   "cell_type": "code",
   "execution_count": 5,
   "metadata": {},
   "outputs": [
    {
     "data": {
      "text/html": [
       "<div>\n",
       "<style scoped>\n",
       "    .dataframe tbody tr th:only-of-type {\n",
       "        vertical-align: middle;\n",
       "    }\n",
       "\n",
       "    .dataframe tbody tr th {\n",
       "        vertical-align: top;\n",
       "    }\n",
       "\n",
       "    .dataframe thead th {\n",
       "        text-align: right;\n",
       "    }\n",
       "</style>\n",
       "<table border=\"1\" class=\"dataframe\">\n",
       "  <thead>\n",
       "    <tr style=\"text-align: right;\">\n",
       "      <th></th>\n",
       "      <th>position</th>\n",
       "      <th>Y_state</th>\n",
       "      <th>molecules</th>\n",
       "      <th>species</th>\n",
       "      <th>fraction_of_one</th>\n",
       "    </tr>\n",
       "  </thead>\n",
       "  <tbody>\n",
       "    <tr>\n",
       "      <th>0</th>\n",
       "      <td>0</td>\n",
       "      <td>1</td>\n",
       "      <td>cholesterol</td>\n",
       "      <td>human</td>\n",
       "      <td>0.99940</td>\n",
       "    </tr>\n",
       "    <tr>\n",
       "      <th>1</th>\n",
       "      <td>1</td>\n",
       "      <td>1</td>\n",
       "      <td>cholesterol</td>\n",
       "      <td>mosquito</td>\n",
       "      <td>0.39938</td>\n",
       "    </tr>\n",
       "    <tr>\n",
       "      <th>2</th>\n",
       "      <td>2</td>\n",
       "      <td>0</td>\n",
       "      <td>cholesterol</td>\n",
       "      <td>fly</td>\n",
       "      <td>0.42732</td>\n",
       "    </tr>\n",
       "    <tr>\n",
       "      <th>3</th>\n",
       "      <td>3</td>\n",
       "      <td>0</td>\n",
       "      <td>cholesterol</td>\n",
       "      <td>worm</td>\n",
       "      <td>0.41234</td>\n",
       "    </tr>\n",
       "    <tr>\n",
       "      <th>4</th>\n",
       "      <td>4</td>\n",
       "      <td>1</td>\n",
       "      <td>cholesterol</td>\n",
       "      <td>bacteria</td>\n",
       "      <td>0.46516</td>\n",
       "    </tr>\n",
       "    <tr>\n",
       "      <th>...</th>\n",
       "      <td>...</td>\n",
       "      <td>...</td>\n",
       "      <td>...</td>\n",
       "      <td>...</td>\n",
       "      <td>...</td>\n",
       "    </tr>\n",
       "    <tr>\n",
       "      <th>427</th>\n",
       "      <td>427</td>\n",
       "      <td>0</td>\n",
       "      <td>lima</td>\n",
       "      <td>cat</td>\n",
       "      <td>0.15784</td>\n",
       "    </tr>\n",
       "    <tr>\n",
       "      <th>428</th>\n",
       "      <td>428</td>\n",
       "      <td>0</td>\n",
       "      <td>lima</td>\n",
       "      <td>fish</td>\n",
       "      <td>0.16758</td>\n",
       "    </tr>\n",
       "    <tr>\n",
       "      <th>429</th>\n",
       "      <td>429</td>\n",
       "      <td>0</td>\n",
       "      <td>lima</td>\n",
       "      <td>bird</td>\n",
       "      <td>0.17706</td>\n",
       "    </tr>\n",
       "    <tr>\n",
       "      <th>430</th>\n",
       "      <td>430</td>\n",
       "      <td>0</td>\n",
       "      <td>lima</td>\n",
       "      <td>plant</td>\n",
       "      <td>0.17870</td>\n",
       "    </tr>\n",
       "    <tr>\n",
       "      <th>431</th>\n",
       "      <td>431</td>\n",
       "      <td>0</td>\n",
       "      <td>lima</td>\n",
       "      <td>fungus</td>\n",
       "      <td>0.19146</td>\n",
       "    </tr>\n",
       "  </tbody>\n",
       "</table>\n",
       "<p>432 rows × 5 columns</p>\n",
       "</div>"
      ],
      "text/plain": [
       "     position  Y_state    molecules   species  fraction_of_one\n",
       "0           0        1  cholesterol     human          0.99940\n",
       "1           1        1  cholesterol  mosquito          0.39938\n",
       "2           2        0  cholesterol       fly          0.42732\n",
       "3           3        0  cholesterol      worm          0.41234\n",
       "4           4        1  cholesterol  bacteria          0.46516\n",
       "..        ...      ...          ...       ...              ...\n",
       "427       427        0         lima       cat          0.15784\n",
       "428       428        0         lima      fish          0.16758\n",
       "429       429        0         lima      bird          0.17706\n",
       "430       430        0         lima     plant          0.17870\n",
       "431       431        0         lima    fungus          0.19146\n",
       "\n",
       "[432 rows x 5 columns]"
      ]
     },
     "execution_count": 5,
     "metadata": {},
     "output_type": "execute_result"
    }
   ],
   "source": [
    "true_y_df"
   ]
  },
  {
   "cell_type": "code",
   "execution_count": 6,
   "metadata": {},
   "outputs": [],
   "source": [
    "true_y = true_y_df[\"Y_state\"].to_numpy()"
   ]
  },
  {
   "cell_type": "code",
   "execution_count": 7,
   "metadata": {},
   "outputs": [],
   "source": [
    "assert y_pred.shape == true_y.shape"
   ]
  },
  {
   "cell_type": "code",
   "execution_count": 8,
   "metadata": {},
   "outputs": [],
   "source": [
    "out = pd.DataFrame([true_y, y_pred]).T"
   ]
  },
  {
   "cell_type": "code",
   "execution_count": 9,
   "metadata": {},
   "outputs": [
    {
     "data": {
      "text/html": [
       "<div>\n",
       "<style scoped>\n",
       "    .dataframe tbody tr th:only-of-type {\n",
       "        vertical-align: middle;\n",
       "    }\n",
       "\n",
       "    .dataframe tbody tr th {\n",
       "        vertical-align: top;\n",
       "    }\n",
       "\n",
       "    .dataframe thead th {\n",
       "        text-align: right;\n",
       "    }\n",
       "</style>\n",
       "<table border=\"1\" class=\"dataframe\">\n",
       "  <thead>\n",
       "    <tr style=\"text-align: right;\">\n",
       "      <th></th>\n",
       "      <th>0</th>\n",
       "      <th>1</th>\n",
       "    </tr>\n",
       "  </thead>\n",
       "  <tbody>\n",
       "    <tr>\n",
       "      <th>0</th>\n",
       "      <td>1.000000</td>\n",
       "      <td>0.999987</td>\n",
       "    </tr>\n",
       "    <tr>\n",
       "      <th>1</th>\n",
       "      <td>0.999987</td>\n",
       "      <td>1.000000</td>\n",
       "    </tr>\n",
       "  </tbody>\n",
       "</table>\n",
       "</div>"
      ],
      "text/plain": [
       "          0         1\n",
       "0  1.000000  0.999987\n",
       "1  0.999987  1.000000"
      ]
     },
     "execution_count": 9,
     "metadata": {},
     "output_type": "execute_result"
    }
   ],
   "source": [
    "out.corr()"
   ]
  },
  {
   "cell_type": "code",
   "execution_count": 10,
   "metadata": {},
   "outputs": [
    {
     "data": {
      "text/plain": [
       "[Text(0.5, 0, 'True Y'),\n",
       " Text(0, 0.5, 'Y predicted'),\n",
       " Text(0.5, 1.0, 'Prediction vs true Y')]"
      ]
     },
     "execution_count": 10,
     "metadata": {},
     "output_type": "execute_result"
    },
    {
     "data": {
      "image/png": "[encoded data removed]",
      "text/plain": [
       "<Figure size 640x480 with 1 Axes>"
      ]
     },
     "metadata": {},
     "output_type": "display_data"
    }
   ],
   "source": [
    "import seaborn as sns\n",
    "\n",
    "sns.stripplot(data=out, x=out[0], y=out[1], size=4).set(\n",
    "    xlabel=\"True Y\", ylabel=\"Y predicted\", title=\"Prediction vs true Y\"\n",
    ")"
   ]
  },
  {
   "cell_type": "markdown",
   "metadata": {},
   "source": [
    "# Now for the Z of species"
   ]
  },
  {
   "cell_type": "code",
   "execution_count": 11,
   "metadata": {},
   "outputs": [],
   "source": [
    "z_species_pred = pd.read_csv(\"./acol_species_Z_trace.txt\", sep=\"\\t\").mean().to_numpy()\n",
    "true_z_species = pd.read_csv(\"../acol_simulated_Z_species.txt\", sep=\"\\t\")[\n",
    "    \"Z_state\"\n",
    "].to_numpy()"
   ]
  },
  {
   "cell_type": "code",
   "execution_count": 12,
   "metadata": {},
   "outputs": [
    {
     "data": {
      "text/plain": [
       "[Text(0.5, 0, 'True Y'),\n",
       " Text(0, 0.5, 'Y predicted'),\n",
       " (-0.1, 1.1),\n",
       " Text(0.5, 1.0, 'Species Z')]"
      ]
     },
     "execution_count": 12,
     "metadata": {},
     "output_type": "execute_result"
    },
    {
     "data": {
      "image/png": "[encoded data removed]",
      "text/plain": [
       "<Figure size 640x480 with 1 Axes>"
      ]
     },
     "metadata": {},
     "output_type": "display_data"
    }
   ],
   "source": [
    "sns.stripplot(x=true_z_species, y=z_species_pred, size=4).set(\n",
    "    xlabel=\"True Y\", ylabel=\"Y predicted\", ylim=(-0.1, 1.1), title=\"Species Z\"\n",
    ")"
   ]
  },
  {
   "cell_type": "markdown",
   "metadata": {},
   "source": [
    "# Now for the Z of molecules"
   ]
  },
  {
   "cell_type": "code",
   "execution_count": 13,
   "metadata": {},
   "outputs": [
    {
     "data": {
      "text/plain": [
       "[Text(0.5, 0, 'True Y'),\n",
       " Text(0, 0.5, 'Y predicted'),\n",
       " (-0.1, 1.1),\n",
       " Text(0.5, 1.0, 'Molecules Z')]"
      ]
     },
     "execution_count": 13,
     "metadata": {},
     "output_type": "execute_result"
    },
    {
     "data": {
      "image/png": "[encoded data removed]",
      "text/plain": [
       "<Figure size 640x480 with 1 Axes>"
      ]
     },
     "metadata": {},
     "output_type": "display_data"
    }
   ],
   "source": [
    "z_molecules_pred = (\n",
    "    pd.read_csv(\"./acol_molecules_Z_trace.txt\", sep=\"\\t\").mean().to_numpy()\n",
    ")\n",
    "true_z_molecules = pd.read_csv(\"../acol_simulated_Z_molecules.txt\", sep=\"\\t\")[\n",
    "    \"Z_state\"\n",
    "].to_numpy()\n",
    "\n",
    "\n",
    "sns.stripplot(x=true_z_molecules, y=z_molecules_pred, size=4).set(\n",
    "    xlabel=\"True Y\", ylabel=\"Y predicted\", ylim=(-0.1, 1.1), title=\"Molecules Z\"\n",
    ")"
   ]
  }
 ],
 "metadata": {
  "kernelspec": {
   "display_name": ".venv",
   "language": "python",
   "name": "python3"
  },
  "language_info": {
   "codemirror_mode": {
    "name": "ipython",
    "version": 3
   },
   "file_extension": ".py",
   "mimetype": "text/x-python",
   "name": "python",
   "nbconvert_exporter": "python",
   "pygments_lexer": "ipython3",
   "version": "3.13.2"
  }
 },
 "nbformat": 4,
 "nbformat_minor": 2
}
