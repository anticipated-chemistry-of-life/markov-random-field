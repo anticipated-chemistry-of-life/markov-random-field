{
 "cells": [
  {
   "cell_type": "code",
   "execution_count": 40,
   "metadata": {},
   "outputs": [],
   "source": [
    "import pandas as pd"
   ]
  },
  {
   "cell_type": "code",
   "execution_count": 41,
   "metadata": {},
   "outputs": [],
   "source": [
    "y_pred_df = pd.read_csv(\"acol_Y_trace.txt\", sep=\"\\t\")"
   ]
  },
  {
   "cell_type": "code",
   "execution_count": 42,
   "metadata": {},
   "outputs": [],
   "source": [
    "y_pred = y_pred_df.mean().to_numpy()"
   ]
  },
  {
   "cell_type": "code",
   "execution_count": 43,
   "metadata": {},
   "outputs": [],
   "source": [
    "true_y_df = pd.read_csv(\"../acol_simulated_Y.txt\", sep=\"\\t\")"
   ]
  },
  {
   "cell_type": "code",
   "execution_count": 44,
   "metadata": {},
   "outputs": [
    {
     "data": {
      "text/html": [
       "<div>\n",
       "<style scoped>\n",
       "    .dataframe tbody tr th:only-of-type {\n",
       "        vertical-align: middle;\n",
       "    }\n",
       "\n",
       "    .dataframe tbody tr th {\n",
       "        vertical-align: top;\n",
       "    }\n",
       "\n",
       "    .dataframe thead th {\n",
       "        text-align: right;\n",
       "    }\n",
       "</style>\n",
       "<table border=\"1\" class=\"dataframe\">\n",
       "  <thead>\n",
       "    <tr style=\"text-align: right;\">\n",
       "      <th></th>\n",
       "      <th>position</th>\n",
       "      <th>Y_state</th>\n",
       "      <th>molecules</th>\n",
       "      <th>species</th>\n",
       "      <th>fraction_of_one</th>\n",
       "    </tr>\n",
       "  </thead>\n",
       "  <tbody>\n",
       "    <tr>\n",
       "      <th>0</th>\n",
       "      <td>0</td>\n",
       "      <td>1</td>\n",
       "      <td>cholesterol</td>\n",
       "      <td>human</td>\n",
       "      <td>0.9886</td>\n",
       "    </tr>\n",
       "    <tr>\n",
       "      <th>1</th>\n",
       "      <td>1</td>\n",
       "      <td>1</td>\n",
       "      <td>cholesterol</td>\n",
       "      <td>mosquito</td>\n",
       "      <td>0.9881</td>\n",
       "    </tr>\n",
       "    <tr>\n",
       "      <th>2</th>\n",
       "      <td>2</td>\n",
       "      <td>1</td>\n",
       "      <td>cholesterol</td>\n",
       "      <td>fly</td>\n",
       "      <td>0.9894</td>\n",
       "    </tr>\n",
       "    <tr>\n",
       "      <th>3</th>\n",
       "      <td>3</td>\n",
       "      <td>1</td>\n",
       "      <td>cholesterol</td>\n",
       "      <td>worm</td>\n",
       "      <td>0.9883</td>\n",
       "    </tr>\n",
       "    <tr>\n",
       "      <th>4</th>\n",
       "      <td>4</td>\n",
       "      <td>1</td>\n",
       "      <td>cholesterol</td>\n",
       "      <td>bacteria</td>\n",
       "      <td>0.9888</td>\n",
       "    </tr>\n",
       "    <tr>\n",
       "      <th>...</th>\n",
       "      <td>...</td>\n",
       "      <td>...</td>\n",
       "      <td>...</td>\n",
       "      <td>...</td>\n",
       "      <td>...</td>\n",
       "    </tr>\n",
       "    <tr>\n",
       "      <th>8335</th>\n",
       "      <td>8335</td>\n",
       "      <td>1</td>\n",
       "      <td>leaf_100</td>\n",
       "      <td>child_44</td>\n",
       "      <td>0.9894</td>\n",
       "    </tr>\n",
       "    <tr>\n",
       "      <th>8336</th>\n",
       "      <td>8336</td>\n",
       "      <td>1</td>\n",
       "      <td>leaf_100</td>\n",
       "      <td>child_45</td>\n",
       "      <td>0.9879</td>\n",
       "    </tr>\n",
       "    <tr>\n",
       "      <th>8337</th>\n",
       "      <td>8337</td>\n",
       "      <td>1</td>\n",
       "      <td>leaf_100</td>\n",
       "      <td>child_46</td>\n",
       "      <td>0.9893</td>\n",
       "    </tr>\n",
       "    <tr>\n",
       "      <th>8338</th>\n",
       "      <td>8338</td>\n",
       "      <td>1</td>\n",
       "      <td>leaf_100</td>\n",
       "      <td>child_47</td>\n",
       "      <td>0.9906</td>\n",
       "    </tr>\n",
       "    <tr>\n",
       "      <th>8339</th>\n",
       "      <td>8339</td>\n",
       "      <td>1</td>\n",
       "      <td>leaf_100</td>\n",
       "      <td>child_48</td>\n",
       "      <td>0.9885</td>\n",
       "    </tr>\n",
       "  </tbody>\n",
       "</table>\n",
       "<p>8340 rows × 5 columns</p>\n",
       "</div>"
      ],
      "text/plain": [
       "      position  Y_state    molecules   species  fraction_of_one\n",
       "0            0        1  cholesterol     human           0.9886\n",
       "1            1        1  cholesterol  mosquito           0.9881\n",
       "2            2        1  cholesterol       fly           0.9894\n",
       "3            3        1  cholesterol      worm           0.9883\n",
       "4            4        1  cholesterol  bacteria           0.9888\n",
       "...        ...      ...          ...       ...              ...\n",
       "8335      8335        1     leaf_100  child_44           0.9894\n",
       "8336      8336        1     leaf_100  child_45           0.9879\n",
       "8337      8337        1     leaf_100  child_46           0.9893\n",
       "8338      8338        1     leaf_100  child_47           0.9906\n",
       "8339      8339        1     leaf_100  child_48           0.9885\n",
       "\n",
       "[8340 rows x 5 columns]"
      ]
     },
     "execution_count": 44,
     "metadata": {},
     "output_type": "execute_result"
    }
   ],
   "source": [
    "true_y_df"
   ]
  },
  {
   "cell_type": "code",
   "execution_count": 45,
   "metadata": {},
   "outputs": [],
   "source": [
    "true_y = true_y_df[\"Y_state\"].to_numpy()"
   ]
  },
  {
   "cell_type": "code",
   "execution_count": 46,
   "metadata": {},
   "outputs": [],
   "source": [
    "assert y_pred.shape == true_y.shape"
   ]
  },
  {
   "cell_type": "code",
   "execution_count": 47,
   "metadata": {},
   "outputs": [],
   "source": [
    "out = pd.DataFrame([true_y, y_pred]).T"
   ]
  },
  {
   "cell_type": "code",
   "execution_count": 48,
   "metadata": {},
   "outputs": [
    {
     "data": {
      "text/html": [
       "<div>\n",
       "<style scoped>\n",
       "    .dataframe tbody tr th:only-of-type {\n",
       "        vertical-align: middle;\n",
       "    }\n",
       "\n",
       "    .dataframe tbody tr th {\n",
       "        vertical-align: top;\n",
       "    }\n",
       "\n",
       "    .dataframe thead th {\n",
       "        text-align: right;\n",
       "    }\n",
       "</style>\n",
       "<table border=\"1\" class=\"dataframe\">\n",
       "  <thead>\n",
       "    <tr style=\"text-align: right;\">\n",
       "      <th></th>\n",
       "      <th>0</th>\n",
       "      <th>1</th>\n",
       "    </tr>\n",
       "  </thead>\n",
       "  <tbody>\n",
       "    <tr>\n",
       "      <th>0</th>\n",
       "      <td>1.000000</td>\n",
       "      <td>0.999997</td>\n",
       "    </tr>\n",
       "    <tr>\n",
       "      <th>1</th>\n",
       "      <td>0.999997</td>\n",
       "      <td>1.000000</td>\n",
       "    </tr>\n",
       "  </tbody>\n",
       "</table>\n",
       "</div>"
      ],
      "text/plain": [
       "          0         1\n",
       "0  1.000000  0.999997\n",
       "1  0.999997  1.000000"
      ]
     },
     "execution_count": 48,
     "metadata": {},
     "output_type": "execute_result"
    }
   ],
   "source": [
    "out.corr()"
   ]
  },
  {
   "cell_type": "code",
   "execution_count": 49,
   "metadata": {},
   "outputs": [
    {
     "data": {
      "text/plain": [
       "[Text(0.5, 0, 'True Y'),\n",
       " Text(0, 0.5, 'Y predicted'),\n",
       " Text(0.5, 1.0, 'Prediction vs true Y')]"
      ]
     },
     "execution_count": 49,
     "metadata": {},
     "output_type": "execute_result"
    },
    {
     "data": {
      "image/png": "[encoded data removed]",
      "text/plain": [
       "<Figure size 640x480 with 1 Axes>"
      ]
     },
     "metadata": {},
     "output_type": "display_data"
    }
   ],
   "source": [
    "import seaborn as sns\n",
    "\n",
    "sns.stripplot(data=out, x=out[0], y=out[1], size=4).set(\n",
    "    xlabel=\"True Y\", ylabel=\"Y predicted\", title=\"Prediction vs true Y\"\n",
    ")"
   ]
  },
  {
   "cell_type": "markdown",
   "metadata": {},
   "source": [
    "# Now for the Z of species"
   ]
  },
  {
   "cell_type": "code",
   "execution_count": 50,
   "metadata": {},
   "outputs": [],
   "source": [
    "z_species_pred = pd.read_csv(\"./acol_species_Z_trace.txt\", sep=\"\\t\").mean().to_numpy()\n",
    "true_z_species = pd.read_csv(\"../acol_simulated_Z_species.txt\", sep=\"\\t\")[\n",
    "    \"Z_state\"\n",
    "].to_numpy()"
   ]
  },
  {
   "cell_type": "code",
   "execution_count": 51,
   "metadata": {},
   "outputs": [
    {
     "data": {
      "text/plain": [
       "[Text(0.5, 0, 'True Z'),\n",
       " Text(0, 0.5, 'Z predicted'),\n",
       " (-0.1, 1.1),\n",
       " Text(0.5, 1.0, 'Species Z')]"
      ]
     },
     "execution_count": 51,
     "metadata": {},
     "output_type": "execute_result"
    },
    {
     "data": {
      "image/png": "[encoded data removed]",
      "text/plain": [
       "<Figure size 640x480 with 1 Axes>"
      ]
     },
     "metadata": {},
     "output_type": "display_data"
    }
   ],
   "source": [
    "sns.stripplot(x=true_z_species, y=z_species_pred, size=4).set(\n",
    "    xlabel=\"True Z\", ylabel=\"Z predicted\", ylim=(-0.1, 1.1), title=\"Species Z\"\n",
    ")"
   ]
  },
  {
   "cell_type": "markdown",
   "metadata": {},
   "source": [
    "# Now for the Z of molecules"
   ]
  },
  {
   "cell_type": "code",
   "execution_count": 52,
   "metadata": {},
   "outputs": [
    {
     "data": {
      "text/plain": [
       "[Text(0.5, 0, 'True Z'),\n",
       " Text(0, 0.5, 'Z predicted'),\n",
       " (-0.1, 1.1),\n",
       " Text(0.5, 1.0, 'Molecules Z')]"
      ]
     },
     "execution_count": 52,
     "metadata": {},
     "output_type": "execute_result"
    },
    {
     "data": {
      "image/png": "[encoded data removed]",
      "text/plain": [
       "<Figure size 640x480 with 1 Axes>"
      ]
     },
     "metadata": {},
     "output_type": "display_data"
    }
   ],
   "source": [
    "z_molecules_pred = (\n",
    "    pd.read_csv(\"./acol_molecules_Z_trace.txt\", sep=\"\\t\").mean().to_numpy()\n",
    ")\n",
    "true_z_molecules = pd.read_csv(\"../acol_simulated_Z_molecules.txt\", sep=\"\\t\")[\n",
    "    \"Z_state\"\n",
    "].to_numpy()\n",
    "\n",
    "\n",
    "sns.stripplot(x=true_z_molecules, y=z_molecules_pred, size=4).set(\n",
    "    xlabel=\"True Z\", ylabel=\"Z predicted\", ylim=(-0.1, 1.1), title=\"Molecules Z\"\n",
    ")"
   ]
  }
 ],
 "metadata": {
  "kernelspec": {
   "display_name": ".venv",
   "language": "python",
   "name": "python3"
  },
  "language_info": {
   "codemirror_mode": {
    "name": "ipython",
    "version": 3
   },
   "file_extension": ".py",
   "mimetype": "text/x-python",
   "name": "python",
   "nbconvert_exporter": "python",
   "pygments_lexer": "ipython3",
   "version": "3.12.7"
  }
 },
 "nbformat": 4,
 "nbformat_minor": 2
}
