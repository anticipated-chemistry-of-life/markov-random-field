{
 "cells": [
  {
   "cell_type": "code",
   "execution_count": 1,
   "metadata": {},
   "outputs": [],
   "source": [
    "# Libraries\n",
    "import seaborn as sns\n",
    "import pandas as pd\n",
    "from matplotlib import pyplot as plt\n",
    "import numpy as np\n",
    "\n",
    "# Data set\n",
    "molecules = pd.read_csv(\"../tests/test_data/molecules.tsv\", sep=\"\\t\")\n",
    "species = pd.read_csv(\"../tests/test_data/loading_tree.tsv\", sep=\"\\t\")"
   ]
  },
  {
   "cell_type": "code",
   "execution_count": 2,
   "metadata": {},
   "outputs": [],
   "source": [
    "import networkx as nx\n",
    "\n",
    "g_molecules = nx.DiGraph()\n",
    "for _, row in molecules.iterrows():\n",
    "    g_molecules.add_edge(row[\"parent\"], row[\"child\"], weight=row[\"length\"])\n",
    "\n",
    "g_species = nx.DiGraph()\n",
    "for _, row in species.iterrows():\n",
    "    g_species.add_edge(row[\"parent\"], row[\"child\"], weight=row[\"length\"])"
   ]
  },
  {
   "cell_type": "code",
   "execution_count": 3,
   "metadata": {},
   "outputs": [],
   "source": [
    "from typing import List\n",
    "\n",
    "\n",
    "def get_linear_index(coord: List[int], dimensions: List[int]) -> int:\n",
    "    index = coord[-1]\n",
    "    prod = 1\n",
    "    for i in range(len(dimensions) - 1, 0, -1):\n",
    "        prod *= dimensions[i]\n",
    "        index += prod * coord[i - 1]\n",
    "    return index\n",
    "\n",
    "\n",
    "node_idx_species = {node: i for i, node in enumerate(g_species.nodes())}\n",
    "nodes_idx_molecules = {node: i for i, node in enumerate(g_molecules.nodes())}\n",
    "\n",
    "molecules_leaf_indices = [None for i in nodes_idx_molecules]\n",
    "mol_internal_nodes_indices = [None for i in nodes_idx_molecules]\n",
    "molecule_leaves = []\n",
    "mol_internal_nodes = []\n",
    "\n",
    "i = 0\n",
    "j = 0\n",
    "for m, molecules_idx in nodes_idx_molecules.items():\n",
    "    mol_successors = [child for child in g_molecules.successors(m)]\n",
    "    mol_parent = [par for par in g_molecules.predecessors(m)]\n",
    "    if not mol_successors:\n",
    "        molecule_leaves.append(molecules_idx)\n",
    "        molecules_leaf_indices[molecules_idx] = i\n",
    "        i += 1\n",
    "    if mol_successors:\n",
    "        mol_internal_nodes.append(molecules_idx)\n",
    "        mol_internal_nodes_indices[molecules_idx] = j\n",
    "        j += 1\n",
    "\n",
    "\n",
    "species_leaf_indices = [None for i in node_idx_species]\n",
    "species_internal_nodes_indices = [None for i in node_idx_species]\n",
    "species_leaves = []\n",
    "species_internal_nodes = []\n",
    "i = 0\n",
    "j = 0\n",
    "for s, species_idx in node_idx_species.items():\n",
    "    species_successors = [child for child in g_species.successors(s)]\n",
    "    species_parent = [par for par in g_species.predecessors(s)]\n",
    "    if not species_successors:\n",
    "        species_leaves.append(species_idx)\n",
    "        species_leaf_indices[species_idx] = i\n",
    "        i += 1\n",
    "\n",
    "    if species_successors:\n",
    "        species_internal_nodes.append(species_idx)\n",
    "        species_internal_nodes_indices[species_idx] = j\n",
    "        j += 1"
   ]
  },
  {
   "cell_type": "code",
   "execution_count": 4,
   "metadata": {},
   "outputs": [],
   "source": [
    "Y = pd.read_csv(\"../build/acol_simulated_Y.txt\", sep=\"\\t\", index_col=0)\n",
    "Z_molecules = pd.read_csv(\"../build/acol_simulated_Z_molecules.txt\", sep=\"\\t\")\n",
    "Z_species = pd.read_csv(\"../build/acol_simulated_Z_species.txt\", sep=\"\\t\")"
   ]
  },
  {
   "cell_type": "code",
   "execution_count": 5,
   "metadata": {},
   "outputs": [],
   "source": [
    "matrix = np.zeros((len(nodes_idx_molecules), len(node_idx_species)), dtype=np.uint8)"
   ]
  },
  {
   "cell_type": "code",
   "execution_count": 17,
   "metadata": {},
   "outputs": [
    {
     "ename": "KeyError",
     "evalue": "60",
     "output_type": "error",
     "traceback": [
      "\u001b[31m---------------------------------------------------------------------------\u001b[39m",
      "\u001b[31mValueError\u001b[39m                                Traceback (most recent call last)",
      "\u001b[36mFile \u001b[39m\u001b[32m~/work/random-markov-field/metabolite_inference/data_visalization/.venv/lib/python3.13/site-packages/pandas/core/indexes/range.py:413\u001b[39m, in \u001b[36mRangeIndex.get_loc\u001b[39m\u001b[34m(self, key)\u001b[39m\n\u001b[32m    412\u001b[39m \u001b[38;5;28;01mtry\u001b[39;00m:\n\u001b[32m--> \u001b[39m\u001b[32m413\u001b[39m     \u001b[38;5;28;01mreturn\u001b[39;00m \u001b[38;5;28;43mself\u001b[39;49m\u001b[43m.\u001b[49m\u001b[43m_range\u001b[49m\u001b[43m.\u001b[49m\u001b[43mindex\u001b[49m\u001b[43m(\u001b[49m\u001b[43mnew_key\u001b[49m\u001b[43m)\u001b[49m\n\u001b[32m    414\u001b[39m \u001b[38;5;28;01mexcept\u001b[39;00m \u001b[38;5;167;01mValueError\u001b[39;00m \u001b[38;5;28;01mas\u001b[39;00m err:\n",
      "\u001b[31mValueError\u001b[39m: 60 is not in range",
      "\nThe above exception was the direct cause of the following exception:\n",
      "\u001b[31mKeyError\u001b[39m                                  Traceback (most recent call last)",
      "\u001b[36mCell\u001b[39m\u001b[36m \u001b[39m\u001b[32mIn[17]\u001b[39m\u001b[32m, line 60\u001b[39m\n\u001b[32m     58\u001b[39m \u001b[38;5;66;03m# final case : mol is an internal node and species is a leaf -> take Z of molecule\u001b[39;00m\n\u001b[32m     59\u001b[39m \u001b[38;5;28;01mif\u001b[39;00m mol_successors \u001b[38;5;129;01mand\u001b[39;00m \u001b[38;5;129;01mnot\u001b[39;00m species_successors:\n\u001b[32m---> \u001b[39m\u001b[32m60\u001b[39m     matrix[molecules_idx, species_idx] = \u001b[43mZ_molecules\u001b[49m\u001b[43m[\u001b[49m\u001b[33;43m\"\u001b[39;49m\u001b[33;43mstate\u001b[39;49m\u001b[33;43m\"\u001b[39;49m\u001b[43m]\u001b[49m\u001b[43m[\u001b[49m\n\u001b[32m     61\u001b[39m \u001b[43m        \u001b[49m\u001b[43mget_linear_index\u001b[49m\u001b[43m(\u001b[49m\n\u001b[32m     62\u001b[39m \u001b[43m            \u001b[49m\u001b[43m[\u001b[49m\n\u001b[32m     63\u001b[39m \u001b[43m                \u001b[49m\u001b[43mmol_internal_nodes_indices\u001b[49m\u001b[43m[\u001b[49m\u001b[43mmolecules_idx\u001b[49m\u001b[43m]\u001b[49m\u001b[43m,\u001b[49m\n\u001b[32m     64\u001b[39m \u001b[43m                \u001b[49m\u001b[43mspecies_leaf_indices\u001b[49m\u001b[43m[\u001b[49m\u001b[43mspecies_idx\u001b[49m\u001b[43m]\u001b[49m\u001b[43m,\u001b[49m\n\u001b[32m     65\u001b[39m \u001b[43m            \u001b[49m\u001b[43m]\u001b[49m\u001b[43m,\u001b[49m\n\u001b[32m     66\u001b[39m \u001b[43m            \u001b[49m\u001b[43m[\u001b[49m\u001b[38;5;28;43mlen\u001b[39;49m\u001b[43m(\u001b[49m\u001b[43mmol_internal_nodes\u001b[49m\u001b[43m)\u001b[49m\u001b[43m,\u001b[49m\u001b[43m \u001b[49m\u001b[38;5;28;43mlen\u001b[39;49m\u001b[43m(\u001b[49m\u001b[43mspecies_leaves\u001b[49m\u001b[43m)\u001b[49m\u001b[43m]\u001b[49m\u001b[43m,\u001b[49m\n\u001b[32m     67\u001b[39m \u001b[43m        \u001b[49m\u001b[43m)\u001b[49m\n\u001b[32m     68\u001b[39m \u001b[43m    \u001b[49m\u001b[43m]\u001b[49m\n\u001b[32m     69\u001b[39m     \u001b[38;5;28;01mcontinue\u001b[39;00m\n",
      "\u001b[36mFile \u001b[39m\u001b[32m~/work/random-markov-field/metabolite_inference/data_visalization/.venv/lib/python3.13/site-packages/pandas/core/series.py:1121\u001b[39m, in \u001b[36mSeries.__getitem__\u001b[39m\u001b[34m(self, key)\u001b[39m\n\u001b[32m   1118\u001b[39m     \u001b[38;5;28;01mreturn\u001b[39;00m \u001b[38;5;28mself\u001b[39m._values[key]\n\u001b[32m   1120\u001b[39m \u001b[38;5;28;01melif\u001b[39;00m key_is_scalar:\n\u001b[32m-> \u001b[39m\u001b[32m1121\u001b[39m     \u001b[38;5;28;01mreturn\u001b[39;00m \u001b[38;5;28;43mself\u001b[39;49m\u001b[43m.\u001b[49m\u001b[43m_get_value\u001b[49m\u001b[43m(\u001b[49m\u001b[43mkey\u001b[49m\u001b[43m)\u001b[49m\n\u001b[32m   1123\u001b[39m \u001b[38;5;66;03m# Convert generator to list before going through hashable part\u001b[39;00m\n\u001b[32m   1124\u001b[39m \u001b[38;5;66;03m# (We will iterate through the generator there to check for slices)\u001b[39;00m\n\u001b[32m   1125\u001b[39m \u001b[38;5;28;01mif\u001b[39;00m is_iterator(key):\n",
      "\u001b[36mFile \u001b[39m\u001b[32m~/work/random-markov-field/metabolite_inference/data_visalization/.venv/lib/python3.13/site-packages/pandas/core/series.py:1237\u001b[39m, in \u001b[36mSeries._get_value\u001b[39m\u001b[34m(self, label, takeable)\u001b[39m\n\u001b[32m   1234\u001b[39m     \u001b[38;5;28;01mreturn\u001b[39;00m \u001b[38;5;28mself\u001b[39m._values[label]\n\u001b[32m   1236\u001b[39m \u001b[38;5;66;03m# Similar to Index.get_value, but we do not fall back to positional\u001b[39;00m\n\u001b[32m-> \u001b[39m\u001b[32m1237\u001b[39m loc = \u001b[38;5;28;43mself\u001b[39;49m\u001b[43m.\u001b[49m\u001b[43mindex\u001b[49m\u001b[43m.\u001b[49m\u001b[43mget_loc\u001b[49m\u001b[43m(\u001b[49m\u001b[43mlabel\u001b[49m\u001b[43m)\u001b[49m\n\u001b[32m   1239\u001b[39m \u001b[38;5;28;01mif\u001b[39;00m is_integer(loc):\n\u001b[32m   1240\u001b[39m     \u001b[38;5;28;01mreturn\u001b[39;00m \u001b[38;5;28mself\u001b[39m._values[loc]\n",
      "\u001b[36mFile \u001b[39m\u001b[32m~/work/random-markov-field/metabolite_inference/data_visalization/.venv/lib/python3.13/site-packages/pandas/core/indexes/range.py:415\u001b[39m, in \u001b[36mRangeIndex.get_loc\u001b[39m\u001b[34m(self, key)\u001b[39m\n\u001b[32m    413\u001b[39m         \u001b[38;5;28;01mreturn\u001b[39;00m \u001b[38;5;28mself\u001b[39m._range.index(new_key)\n\u001b[32m    414\u001b[39m     \u001b[38;5;28;01mexcept\u001b[39;00m \u001b[38;5;167;01mValueError\u001b[39;00m \u001b[38;5;28;01mas\u001b[39;00m err:\n\u001b[32m--> \u001b[39m\u001b[32m415\u001b[39m         \u001b[38;5;28;01mraise\u001b[39;00m \u001b[38;5;167;01mKeyError\u001b[39;00m(key) \u001b[38;5;28;01mfrom\u001b[39;00m\u001b[38;5;250m \u001b[39m\u001b[34;01merr\u001b[39;00m\n\u001b[32m    416\u001b[39m \u001b[38;5;28;01mif\u001b[39;00m \u001b[38;5;28misinstance\u001b[39m(key, Hashable):\n\u001b[32m    417\u001b[39m     \u001b[38;5;28;01mraise\u001b[39;00m \u001b[38;5;167;01mKeyError\u001b[39;00m(key)\n",
      "\u001b[31mKeyError\u001b[39m: 60"
     ]
    }
   ],
   "source": [
    "i = 0\n",
    "for m, molecules_idx in nodes_idx_molecules.items():\n",
    "    mol_successors = [child for child in g_molecules.successors(m)]\n",
    "    mol_parent = [par for par in g_molecules.predecessors(m)]\n",
    "    for s, species_idx in node_idx_species.items():\n",
    "        species_successors = [child for child in g_species.successors(s)]\n",
    "        species_parent = [par for par in g_species.predecessors(s)]\n",
    "\n",
    "        # now we need to check if the four lists created are not empty that means they are all internal nodes so we continue\n",
    "        if mol_successors and mol_parent and species_successors and species_parent:\n",
    "            i += 1\n",
    "            continue\n",
    "\n",
    "        # if they are both roots we also continue\n",
    "        if not mol_parent and not species_parent:\n",
    "            i += 1\n",
    "            continue\n",
    "\n",
    "        # if mol is root and species is internal node, we also continue\n",
    "        if not mol_parent and species_parent and species_successors:\n",
    "            i += 1\n",
    "            continue\n",
    "\n",
    "        # now the opposite : if the mol is internal node and the species is root\n",
    "        if mol_parent and mol_successors and not species_parent:\n",
    "            i += 1\n",
    "            continue\n",
    "\n",
    "        # easy case : if both nodes are a leaf:\n",
    "        if not mol_successors and not species_successors:\n",
    "            matrix[molecules_idx, species_idx] = (\n",
    "                Y[\"state\"][\n",
    "                    get_linear_index(\n",
    "                        [\n",
    "                            molecules_leaf_indices[molecules_idx],\n",
    "                            species_leaf_indices[species_idx],\n",
    "                        ],\n",
    "                        [len(molecule_leaves), len(species_leaves)],\n",
    "                    )\n",
    "                ]\n",
    "                + 1\n",
    "            )\n",
    "            continue\n",
    "\n",
    "        # case : mol is a leaf and species is an internal node -> take Z of species\n",
    "        if not mol_successors and species_successors:\n",
    "            matrix[molecules_idx, species_idx] = Z_species[\"state\"][\n",
    "                get_linear_index(\n",
    "                    [\n",
    "                        molecules_leaf_indices[molecules_idx],\n",
    "                        species_internal_nodes_indices[species_idx],\n",
    "                    ],\n",
    "                    [len(molecule_leaves), len(species_internal_nodes)],\n",
    "                )\n",
    "            ]\n",
    "            continue\n",
    "\n",
    "        # final case : mol is an internal node and species is a leaf -> take Z of molecule\n",
    "        if mol_successors and not species_successors:\n",
    "            matrix[molecules_idx, species_idx] = Z_molecules[\"state\"][\n",
    "                get_linear_index(\n",
    "                    [\n",
    "                        mol_internal_nodes_indices[molecules_idx],\n",
    "                        species_leaf_indices[species_idx],\n",
    "                    ],\n",
    "                    [len(mol_internal_nodes), len(species_leaves)],\n",
    "                )\n",
    "            ]\n",
    "            continue"
   ]
  },
  {
   "cell_type": "code",
   "execution_count": null,
   "metadata": {},
   "outputs": [
    {
     "data": {
      "text/plain": [
       "60"
      ]
     },
     "execution_count": 7,
     "metadata": {},
     "output_type": "execute_result"
    }
   ],
   "source": [
    "get_linear_index(\n",
    "    [\n",
    "        mol_internal_nodes_indices[molecules_idx],\n",
    "        species_leaf_indices[species_idx],\n",
    "    ],\n",
    "    [len(mol_internal_nodes), len(species_leaves)],\n",
    ")"
   ]
  },
  {
   "cell_type": "code",
   "execution_count": 15,
   "metadata": {},
   "outputs": [
    {
     "name": "stdout",
     "output_type": "stream",
     "text": [
      "16\n",
      "2\n"
     ]
    }
   ],
   "source": [
    "print(molecules_idx)\n",
    "print(species_idx)"
   ]
  },
  {
   "cell_type": "code",
   "execution_count": null,
   "metadata": {},
   "outputs": [
    {
     "name": "stdout",
     "output_type": "stream",
     "text": [
      "12\n",
      "6\n"
     ]
    }
   ],
   "source": [
    "print(len(mol_internal_nodes))\n",
    "print(len(species_leaves))"
   ]
  },
  {
   "cell_type": "code",
   "execution_count": null,
   "metadata": {},
   "outputs": [
    {
     "data": {
      "text/plain": [
       "[10, 0]"
      ]
     },
     "execution_count": 12,
     "metadata": {},
     "output_type": "execute_result"
    }
   ],
   "source": [
    "[\n",
    "    mol_internal_nodes_indices[molecules_idx],\n",
    "    species_leaf_indices[species_idx],\n",
    "]"
   ]
  },
  {
   "cell_type": "code",
   "execution_count": null,
   "metadata": {},
   "outputs": [],
   "source": [
    "import scipy.cluster.hierarchy as sch\n",
    "\n",
    "dist_matrix_molecules = np.zeros((len(nodes_idx_molecules), len(nodes_idx_molecules)))\n",
    "for i, node1 in enumerate(g_molecules.nodes()):\n",
    "    for j, node2 in enumerate(g_molecules.nodes()):\n",
    "        if i != j:\n",
    "            try:\n",
    "                dist_matrix_molecules[i, j] = nx.shortest_path_length(\n",
    "                    g_molecules, source=node1, target=node2\n",
    "                )\n",
    "            except nx.NetworkXNoPath:\n",
    "                dist_matrix_molecules[i, j] = 200000  # No connection\n",
    "\n",
    "# Convert distance matrix into a linkage matrix\n",
    "linkage_molecules = sch.linkage(dist_matrix_molecules, method=\"average\")\n",
    "\n",
    "dist_matrix_species = np.zeros((len(node_idx_species), len(node_idx_species)))\n",
    "for i, node1 in enumerate(g_species.nodes()):\n",
    "    for j, node2 in enumerate(g_species.nodes()):\n",
    "        if i != j:\n",
    "            try:\n",
    "                dist_matrix_species[i, j] = nx.shortest_path_length(\n",
    "                    g_species, source=node1, target=node2\n",
    "                )\n",
    "            except nx.NetworkXNoPath:\n",
    "                dist_matrix_species[i, j] = 200000  # No connection\n",
    "\n",
    "# Convert distance matrix into a linkage matrix\n",
    "linkage_species = sch.linkage(dist_matrix_species, method=\"average\")\n",
    "\n",
    "\n",
    "# Create a clustermap using the computed linkage matrix\n",
    "sns.clustermap(\n",
    "    matrix,\n",
    "    row_linkage=linkage_molecules,\n",
    "    col_linkage=linkage_species,\n",
    "    cmap=\"Blues\",\n",
    "    xticklabels=g_species.nodes(),\n",
    "    yticklabels=g_molecules.nodes(),\n",
    ")"
   ]
  }
 ],
 "metadata": {
  "kernelspec": {
   "display_name": ".venv",
   "language": "python",
   "name": "python3"
  },
  "language_info": {
   "codemirror_mode": {
    "name": "ipython",
    "version": 3
   },
   "file_extension": ".py",
   "mimetype": "text/x-python",
   "name": "python",
   "nbconvert_exporter": "python",
   "pygments_lexer": "ipython3",
   "version": "3.13.2"
  }
 },
 "nbformat": 4,
 "nbformat_minor": 2
}
